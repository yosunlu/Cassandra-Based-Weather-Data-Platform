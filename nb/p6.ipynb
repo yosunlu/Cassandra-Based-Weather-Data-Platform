{
 "cells": [
  {
   "cell_type": "code",
   "execution_count": 7,
   "id": "912b78f6-52ea-4212-ad73-5ad27cde1483",
   "metadata": {},
   "outputs": [
    {
     "name": "stdout",
     "output_type": "stream",
     "text": [
      "Datacenter: datacenter1\n",
      "=======================\n",
      "Status=Up/Down\n",
      "|/ State=Normal/Leaving/Joining/Moving\n",
      "--  Address     Load        Tokens  Owns (effective)  Host ID                               Rack \n",
      "UN  172.18.0.4  242.42 KiB  16      65.0%             3388fa66-346e-482a-b842-a9beb57a1fab  rack1\n",
      "UN  172.18.0.3  25.55 KiB   16      63.9%             e0981cbf-2327-44ae-8361-5e69ac693d3c  rack1\n",
      "UN  172.18.0.2  25.55 KiB   16      71.1%             761aafd5-9007-4851-883f-09570c72e8fc  rack1\n",
      "\n"
     ]
    }
   ],
   "source": [
    "!nodetool status\n",
    "# run after docker compose up -d\n",
    "# might take ~30 seconds"
   ]
  },
  {
   "cell_type": "code",
   "execution_count": 8,
   "id": "6ef14d86-c057-4c3c-ad73-163a29064b91",
   "metadata": {},
   "outputs": [],
   "source": [
    "from cassandra.cluster import Cluster\n",
    "# Connect to the Cassandra cluster\n",
    "cluster = Cluster(['p6-db-1', 'p6-db-2', 'p6-db-3'])\n",
    "cass = cluster.connect()"
   ]
  },
  {
   "cell_type": "code",
   "execution_count": 9,
   "id": "bc1d0518-7d90-4bcb-825d-2a0554d3be61",
   "metadata": {},
   "outputs": [
    {
     "data": {
      "text/plain": [
       "<cassandra.cluster.ResultSet at 0xffff80152da0>"
      ]
     },
     "execution_count": 9,
     "metadata": {},
     "output_type": "execute_result"
    }
   ],
   "source": [
    "cass.execute(\"DROP KEYSPACE IF EXISTS weather\")"
   ]
  },
  {
   "cell_type": "code",
   "execution_count": 10,
   "id": "03c2a898-c0b5-4522-8c87-36ecf9e0f67c",
   "metadata": {},
   "outputs": [
    {
     "data": {
      "text/plain": [
       "<cassandra.cluster.ResultSet at 0xffff80153a00>"
      ]
     },
     "execution_count": 10,
     "metadata": {},
     "output_type": "execute_result"
    }
   ],
   "source": [
    "cass.execute(\"\"\"\n",
    "CREATE KEYSPACE weather\n",
    "WITH REPLICATION = { \n",
    "   'class' : 'SimpleStrategy', \n",
    "   'replication_factor' : 3 \n",
    "};\n",
    "\"\"\")"
   ]
  },
  {
   "cell_type": "code",
   "execution_count": 11,
   "id": "9d7dd60c-8df2-4ff0-bf62-1a68cb67bd6c",
   "metadata": {},
   "outputs": [
    {
     "data": {
      "text/plain": [
       "<cassandra.cluster.ResultSet at 0xffff5445ded0>"
      ]
     },
     "execution_count": 11,
     "metadata": {},
     "output_type": "execute_result"
    }
   ],
   "source": [
    "cass.execute(\"USE weather\")"
   ]
  },
  {
   "cell_type": "code",
   "execution_count": 12,
   "id": "ef173119-3d71-4386-9d7e-db969a3b05dd",
   "metadata": {},
   "outputs": [
    {
     "data": {
      "text/plain": [
       "<cassandra.cluster.ResultSet at 0xffff67723d90>"
      ]
     },
     "execution_count": 12,
     "metadata": {},
     "output_type": "execute_result"
    }
   ],
   "source": [
    "cass.execute(\"CREATE TYPE station_record (tmin int, tmax int)\")"
   ]
  },
  {
   "cell_type": "code",
   "execution_count": 13,
   "id": "bcf59455-ae8a-4035-a775-db1c6d11b0e4",
   "metadata": {},
   "outputs": [
    {
     "data": {
      "text/plain": [
       "<cassandra.cluster.ResultSet at 0xffff55057460>"
      ]
     },
     "execution_count": 13,
     "metadata": {},
     "output_type": "execute_result"
    }
   ],
   "source": [
    "cass.execute(\"\"\"\n",
    "create table stations(\n",
    "    id TEXT,\n",
    "    name TEXT STATIC,\n",
    "    date DATE,\n",
    "    record weather.station_record,\n",
    "    PRIMARY KEY ((id), date) \n",
    ") WITH CLUSTERING ORDER BY (date ASC)\n",
    "\"\"\")"
   ]
  },
  {
   "cell_type": "code",
   "execution_count": 14,
   "id": "bac8e96a-23f0-490c-b0ea-4cefe40e32b1",
   "metadata": {},
   "outputs": [
    {
     "data": {
      "text/plain": [
       "\"CREATE TABLE weather.stations (\\n    id text,\\n    date date,\\n    name text static,\\n    record station_record,\\n    PRIMARY KEY (id, date)\\n) WITH CLUSTERING ORDER BY (date ASC)\\n    AND additional_write_policy = '99p'\\n    AND bloom_filter_fp_chance = 0.01\\n    AND caching = {'keys': 'ALL', 'rows_per_partition': 'NONE'}\\n    AND cdc = false\\n    AND comment = ''\\n    AND compaction = {'class': 'org.apache.cassandra.db.compaction.SizeTieredCompactionStrategy', 'max_threshold': '32', 'min_threshold': '4'}\\n    AND compression = {'chunk_length_in_kb': '16', 'class': 'org.apache.cassandra.io.compress.LZ4Compressor'}\\n    AND memtable = 'default'\\n    AND crc_check_chance = 1.0\\n    AND default_time_to_live = 0\\n    AND extensions = {}\\n    AND gc_grace_seconds = 864000\\n    AND max_index_interval = 2048\\n    AND memtable_flush_period_in_ms = 0\\n    AND min_index_interval = 128\\n    AND read_repair = 'BLOCKING'\\n    AND speculative_retry = '99p';\""
      ]
     },
     "execution_count": 14,
     "metadata": {},
     "output_type": "execute_result"
    }
   ],
   "source": [
    "#q1\n",
    "#What is the Schema of stations?\n",
    "cass.execute(\"describe table weather.stations\").one().create_statement"
   ]
  },
  {
   "cell_type": "code",
   "execution_count": 21,
   "id": "465b1e50-9a55-403b-b0f5-1937a6f9efce",
   "metadata": {},
   "outputs": [],
   "source": [
    "from pyspark.sql import SparkSession\n",
    "spark = (SparkSession.builder\n",
    "         .appName(\"p6\")\n",
    "         .config('spark.jars.packages', 'com.datastax.spark:spark-cassandra-connector_2.12:3.4.0')\n",
    "         .config(\"spark.sql.extensions\", \"com.datastax.spark.connector.CassandraSparkExtensions\")\n",
    "         .getOrCreate())\n",
    "# first build spark session to read the input file, then dump the file into cassandra table"
   ]
  },
  {
   "cell_type": "code",
   "execution_count": 22,
   "id": "54c0f726-2e02-4c16-afe3-48d8831a81fa",
   "metadata": {},
   "outputs": [],
   "source": [
    "df = spark.read.text(\"ghcnd-stations.txt\")"
   ]
  },
  {
   "cell_type": "code",
   "execution_count": 23,
   "id": "8411fd8c-1272-4ddf-9572-b0af471cd416",
   "metadata": {},
   "outputs": [],
   "source": [
    "from pyspark.sql.functions import col, expr, rtrim"
   ]
  },
  {
   "cell_type": "code",
   "execution_count": 24,
   "id": "2a4974a8-b0d1-4799-9555-5051f8d963a7",
   "metadata": {},
   "outputs": [],
   "source": [
    "df2 = (df.withColumn(\"ID\", expr(\"substring(value, 1, 11)\"))\n",
    "       .withColumn(\"STATE\", expr(\"substring(value, 39, 2)\"))\n",
    "       .withColumn(\"NAME\", rtrim(expr(\"substring(value, 42, 30)\")))\n",
    "       .drop(\"value\"))\n",
    "# refer to the documentation of \"ghcnd-stations.txt\n",
    "# trailing spaces after name need to be trimmed"
   ]
  },
  {
   "cell_type": "code",
   "execution_count": 25,
   "id": "842eff1a-9f20-4bad-a8cd-7c799b4d7826",
   "metadata": {},
   "outputs": [],
   "source": [
    "filtered_df = df2.where(df2.STATE == \"WI\")"
   ]
  },
  {
   "cell_type": "code",
   "execution_count": 26,
   "id": "195c8b8b-1270-4672-aa3e-05fe9ee26c45",
   "metadata": {},
   "outputs": [
    {
     "name": "stderr",
     "output_type": "stream",
     "text": [
      "                                                                                \r"
     ]
    },
    {
     "data": {
      "text/plain": [
       "1313"
      ]
     },
     "execution_count": 26,
     "metadata": {},
     "output_type": "execute_result"
    }
   ],
   "source": [
    "rows = filtered_df.collect()\n",
    "len(rows) # 1313 rows with STATE == \"WI\""
   ]
  },
  {
   "cell_type": "code",
   "execution_count": 20,
   "id": "ea9cd678-c4c5-4b5c-8210-c1ac37eefdd8",
   "metadata": {},
   "outputs": [],
   "source": [
    "for row in rows:\n",
    "    cass.execute(\"\"\"\n",
    "        INSERT INTO stations (ID, NAME)\n",
    "        VALUES (%s, %s)\n",
    "        \"\"\",(row.ID, row.NAME))\n",
    "# weather_list is a list derived from spark\n",
    "# this step is essentially moving data from spark to cassandra"
   ]
  },
  {
   "cell_type": "code",
   "execution_count": 21,
   "id": "712b6a7e-95d1-4f63-a396-6008c5bdaae4",
   "metadata": {},
   "outputs": [
    {
     "data": {
      "text/plain": [
       "1313"
      ]
     },
     "execution_count": 21,
     "metadata": {},
     "output_type": "execute_result"
    }
   ],
   "source": [
    "cass.execute(\"SELECT COUNT(*) FROM weather.stations\").one()[0]"
   ]
  },
  {
   "cell_type": "code",
   "execution_count": 22,
   "id": "ac8b39c7-1c0f-4a9b-9523-71433165981a",
   "metadata": {},
   "outputs": [
    {
     "data": {
      "text/plain": [
       "'MADISON DANE CO RGNL AP'"
      ]
     },
     "execution_count": 22,
     "metadata": {},
     "output_type": "execute_result"
    }
   ],
   "source": [
    "#q2\n",
    "#What is the name corresponding to station ID USW00014837?\n",
    "cass.execute(\"\"\"\n",
    "    SELECT NAME \n",
    "    FROM weather.stations \n",
    "    WHERE ID = 'USW00014837'\n",
    "\"\"\").one()[0]"
   ]
  },
  {
   "cell_type": "code",
   "execution_count": 23,
   "id": "c250cd9c-2444-4bec-a601-9402ecb2c6a9",
   "metadata": {},
   "outputs": [
    {
     "data": {
      "text/plain": [
       "-9014250178872933741"
      ]
     },
     "execution_count": 23,
     "metadata": {},
     "output_type": "execute_result"
    }
   ],
   "source": [
    "#q3\n",
    "#what is the token for the USC00470273 station?\n",
    "token_0273 = cass.execute(\"\"\"\n",
    "    SELECT TOKEN(ID)\n",
    "    FROM weather.stations \n",
    "    WHERE ID = 'USC00470273'\n",
    "\"\"\").one()[0]\n",
    "token_0273"
   ]
  },
  {
   "cell_type": "code",
   "execution_count": 24,
   "id": "1eedab28-0345-4d3b-9bf9-27728efadb18",
   "metadata": {},
   "outputs": [],
   "source": [
    "import subprocess\n",
    "# Use check_output to run nodetool ring\n",
    "output = subprocess.check_output(['nodetool', 'ring'])"
   ]
  },
  {
   "cell_type": "code",
   "execution_count": 25,
   "id": "39b7f327-8ab6-425e-8003-0701d4a262a3",
   "metadata": {},
   "outputs": [],
   "source": [
    "output_str = output.decode('utf-8')\n",
    "lines = output_str.split('\\n')\n",
    "tokens = []\n",
    "for line in lines:\n",
    "    parts = line.split()\n",
    "    if len(parts) > 1 and parts[-1].lstrip('-').isdigit(): # without lstrip, token with leading \"-\" will be removed\n",
    "        tokens.append(int(parts[-1]))"
   ]
  },
  {
   "cell_type": "code",
   "execution_count": 26,
   "id": "96883992-0769-43e4-899d-dddf8ebe3aac",
   "metadata": {},
   "outputs": [
    {
     "data": {
      "text/plain": [
       "-8629239957855773006"
      ]
     },
     "execution_count": 26,
     "metadata": {},
     "output_type": "execute_result"
    }
   ],
   "source": [
    "#q4\n",
    "#what is the first vnode token in the ring following the token for USC00470273?\n",
    "for i, node in enumerate(tokens):\n",
    "    if token_0273 > tokens[i] and i + 1 == len(tokens): # wrapping around\n",
    "        ans = tokens[0]\n",
    "        break\n",
    "    elif token_0273 < tokens[i+1]:\n",
    "        ans = tokens[i+1]\n",
    "        break\n",
    "ans"
   ]
  },
  {
   "cell_type": "code",
   "execution_count": 27,
   "id": "ed322aa1-dd74-4716-aa63-c5011d9fc8cb",
   "metadata": {},
   "outputs": [
    {
     "name": "stdout",
     "output_type": "stream",
     "text": [
      "Archive:  records.zip\n",
      "replace records.parquet/part-00000-574ab704-2431-4c8b-9d88-6c635a467b99-c000.snappy.parquet? [y]es, [n]o, [A]ll, [N]one, [r]ename: ^C\n"
     ]
    }
   ],
   "source": [
    "import os\n",
    "import shutil\n",
    "\n",
    "folder_path = 'records.parquet'\n",
    "\n",
    "# Check if the folder exists\n",
    "if os.path.exists(folder_path) and os.path.isdir(folder_path):\n",
    "    # Remove the folder\n",
    "    shutil.rmtree(folder_path)\n",
    "\n",
    "!unzip records.zip"
   ]
  },
  {
   "cell_type": "code",
   "execution_count": 28,
   "id": "6e1f9686-51a4-40f5-931f-c3f260a7d7f9",
   "metadata": {},
   "outputs": [
    {
     "name": "stderr",
     "output_type": "stream",
     "text": [
      "                                                                                \r"
     ]
    }
   ],
   "source": [
    "df_record = spark.read.parquet(\"records.parquet\")"
   ]
  },
  {
   "cell_type": "code",
   "execution_count": 29,
   "id": "8b7e921c-0665-493e-8079-f6e55dd7e5df",
   "metadata": {},
   "outputs": [],
   "source": [
    "from pyspark.sql import functions as F\n",
    "df2_record = (df_record.groupBy(\"station\", \"date\")\n",
    "                      .pivot(\"element\", [\"TMAX\",\"TMIN\"])\n",
    "                      .agg(F.first(\"value\"))\n",
    "                      .orderBy(\"station\"))\n",
    "# Use Spark to load this and re-arrange the data so that there is \n",
    "# (a) one row per station/date combination, and (b) tmin and tmax columns\n",
    "# Hint: The pivot function in PySpark might be useful to rearrange the data"
   ]
  },
  {
   "cell_type": "code",
   "execution_count": 30,
   "id": "07424a4b-2122-4ae0-8a4f-7cde03b1ae5e",
   "metadata": {},
   "outputs": [
    {
     "name": "stderr",
     "output_type": "stream",
     "text": [
      "                                                                                \r"
     ]
    },
    {
     "name": "stdout",
     "output_type": "stream",
     "text": [
      "+-----------+--------+------+------+\n",
      "|    station|    date|  TMAX|  TMIN|\n",
      "+-----------+--------+------+------+\n",
      "|USR0000WDDG|20220806| 317.0| 217.0|\n",
      "|USR0000WDDG|20220924| 161.0|  94.0|\n",
      "|USR0000WDDG|20220628| 283.0| 161.0|\n",
      "|USR0000WDDG|20220130| -33.0|-117.0|\n",
      "|USR0000WDDG|20220919| 278.0| 139.0|\n",
      "|USR0000WDDG|20220414|  50.0| -17.0|\n",
      "|USR0000WDDG|20220629| 306.0| 150.0|\n",
      "|USR0000WDDG|20221114|  17.0| -61.0|\n",
      "|USR0000WDDG|20220712| 289.0| 156.0|\n",
      "|USR0000WDDG|20220202|-106.0|-150.0|\n",
      "+-----------+--------+------+------+\n",
      "only showing top 10 rows\n",
      "\n"
     ]
    }
   ],
   "source": [
    "df2_record.show(10)"
   ]
  },
  {
   "cell_type": "code",
   "execution_count": null,
   "id": "4f810967-7d4d-4250-ab80-17a2d4483295",
   "metadata": {},
   "outputs": [],
   "source": [
    "# cass.execute(\"\"\"\n",
    "# create table stations(\n",
    "#     id TEXT,\n",
    "#     name TEXT STATIC,\n",
    "#     date DATE,\n",
    "#     record weather.station_record,\n",
    "#     PRIMARY KEY ((id), date) \n",
    "# ) WITH CLUSTERING ORDER BY (date ASC)\n",
    "# \"\"\")"
   ]
  },
  {
   "cell_type": "code",
   "execution_count": 31,
   "id": "01a42841-062c-4129-bc16-93a58fcf481c",
   "metadata": {},
   "outputs": [],
   "source": [
    "import grpc\n",
    "import station_pb2 \n",
    "import station_pb2_grpc \n",
    "\n",
    "\n",
    "rows = df2_record.collect()\n",
    "channel = grpc.insecure_channel(f\"localhost:5440\") \n",
    "stub = station_pb2_grpc.StationStub(channel)\n",
    "\n",
    "for row in rows:\n",
    "    year = row.date[:4] # CQL requires that you insert date data in yyyy-mm-dd format\n",
    "    month = row.date[4:6]\n",
    "    day = row.date[6:]    \n",
    "    request = station_pb2.RecordTempsRequest(\n",
    "        station=row.station,\n",
    "        date=str(year + \"-\" + month + \"-\" + day),\n",
    "        tmin=int(row.TMIN),\n",
    "        tmax=int(row.TMAX)\n",
    "    )\n",
    "    try:\n",
    "        response = stub.RecordTemps(request)\n",
    "        # print(response)\n",
    "    except grpc.RpcError as e:\n",
    "        print(\"gRPC call failed: {}\".format(e))"
   ]
  },
  {
   "cell_type": "code",
   "execution_count": 32,
   "id": "cbacb5a0-fae0-4960-900e-cb37935335e0",
   "metadata": {},
   "outputs": [
    {
     "name": "stdout",
     "output_type": "stream",
     "text": [
      "Row(id='USW00014837', date=Date(18993), name='MADISON DANE CO RGNL AP', record=station_record(tmin=-99, tmax=-32))\n",
      "Row(id='USW00014837', date=Date(18994), name='MADISON DANE CO RGNL AP', record=station_record(tmin=-166, tmax=-82))\n",
      "Row(id='USW00014837', date=Date(18995), name='MADISON DANE CO RGNL AP', record=station_record(tmin=-177, tmax=-66))\n",
      "Row(id='USW00014837', date=Date(18996), name='MADISON DANE CO RGNL AP', record=station_record(tmin=-88, tmax=-5))\n",
      "Row(id='USW00014837', date=Date(18997), name='MADISON DANE CO RGNL AP', record=station_record(tmin=-116, tmax=-5))\n"
     ]
    }
   ],
   "source": [
    "result = cass.execute(\"\"\"\n",
    "SELECT *\n",
    "FROM stations\n",
    "WHERE id = 'USW00014837'\n",
    "LIMIT 5\n",
    "\"\"\")\n",
    "for row in result:\n",
    "    print(row)"
   ]
  },
  {
   "cell_type": "code",
   "execution_count": 33,
   "id": "bacaed1f-1127-49f9-ace1-5d00a508fc38",
   "metadata": {},
   "outputs": [
    {
     "data": {
      "text/plain": [
       "tmax: 356"
      ]
     },
     "execution_count": 33,
     "metadata": {},
     "output_type": "execute_result"
    }
   ],
   "source": [
    "#q5\n",
    "#what is the max temperature ever seen for station USW00014837?\n",
    "request = station_pb2.StationMaxRequest(station='USW00014837')\n",
    "response = stub.StationMax(request)\n",
    "response"
   ]
  },
  {
   "cell_type": "code",
   "execution_count": 34,
   "id": "07f94fd0-cec3-4548-a1a2-32dad93fcd08",
   "metadata": {},
   "outputs": [],
   "source": [
    "# already enabled CassandraSparkExtensions when creating your Spark session, so can create a Spark DataFrame corresponding to a Cassandra table like this\n",
    "df = (spark.read.format(\"org.apache.spark.sql.cassandra\")\n",
    "      .option(\"spark.cassandra.connection.host\", \"p6-db-1,p6-db-2,p6-db-3\")\n",
    "      .option(\"keyspace\", \"weather\")\n",
    "      .option(\"table\", \"stations\")\n",
    "      .load())"
   ]
  },
  {
   "cell_type": "code",
   "execution_count": 35,
   "id": "d9aa4655-5764-4464-8537-4c1ba2d6d4ed",
   "metadata": {},
   "outputs": [],
   "source": [
    "# Create a temporary view in Spark named stations that corresponds to the stations table in Cassandra.\n",
    "df.createOrReplaceTempView(\"stations\")"
   ]
  },
  {
   "cell_type": "code",
   "execution_count": 36,
   "id": "16eee75c-6053-41da-a5bb-a0fbc9036b6d",
   "metadata": {},
   "outputs": [
    {
     "data": {
      "text/plain": [
       "[Table(name='stations', catalog=None, namespace=[], description=None, tableType='TEMPORARY', isTemporary=True)]"
      ]
     },
     "execution_count": 36,
     "metadata": {},
     "output_type": "execute_result"
    }
   ],
   "source": [
    "#q6\n",
    "#what tables/views are available in the Spark catalog?\n",
    "spark.sql(\"DROP TABLE IF EXISTS id_state_name_table\")\n",
    "spark.catalog.listTables()"
   ]
  },
  {
   "cell_type": "code",
   "execution_count": 37,
   "id": "05f399a6-679d-45de-91d0-2474e15c3f71",
   "metadata": {},
   "outputs": [
    {
     "name": "stderr",
     "output_type": "stream",
     "text": [
      "                                                                                \r"
     ]
    },
    {
     "data": {
      "text/plain": [
       "{'USW00014839': 89.6986301369863,\n",
       " 'USR0000WDDG': 102.06849315068493,\n",
       " 'USW00014837': 105.62739726027397,\n",
       " 'USW00014898': 102.93698630136986}"
      ]
     },
     "execution_count": 37,
     "metadata": {},
     "output_type": "execute_result"
    },
    {
     "name": "stderr",
     "output_type": "stream",
     "text": [
      "23/11/20 23:57:49 WARN ChannelPool: [s0|p6-db-2/172.21.0.3:9042]  Error while opening new channel (ConnectionInitException: [s0|connecting...] Protocol initialization request, step 1 (STARTUP {CQL_VERSION=3.0.0, DRIVER_NAME=DataStax Java driver for Apache Cassandra(R), DRIVER_VERSION=4.13.0, CLIENT_ID=688ad012-73fc-4359-9b5a-1b1c0b87f2be, APPLICATION_NAME=Spark-Cassandra-Connector-local-1700521939242}): failed to send request (java.nio.channels.NotYetConnectedException))\n",
      "23/11/20 23:57:56 WARN ChannelPool: [s0|p6-db-2/172.21.0.3:9042]  Error while opening new channel (ConnectionInitException: [s0|connecting...] Protocol initialization request, step 1 (STARTUP {CQL_VERSION=3.0.0, DRIVER_NAME=DataStax Java driver for Apache Cassandra(R), DRIVER_VERSION=4.13.0, CLIENT_ID=688ad012-73fc-4359-9b5a-1b1c0b87f2be, APPLICATION_NAME=Spark-Cassandra-Connector-local-1700521939242}): failed to send request (java.nio.channels.NotYetConnectedException))\n"
     ]
    }
   ],
   "source": [
    "#q7\n",
    "#what is the average difference between tmax and tmin, for each of the four stations that have temperature records?\n",
    "from pyspark.sql.types import IntegerType\n",
    "from pyspark.sql.functions import udf\n",
    "\n",
    "def get_tmax(record):\n",
    "    return record.tmax if record is not None else None\n",
    "\n",
    "def get_tmin(record):\n",
    "    return record.tmin if record is not None else None\n",
    "\n",
    "get_tmax_udf = udf(get_tmax, IntegerType())\n",
    "get_tmin_udf = udf(get_tmin, IntegerType())\n",
    "\n",
    "spark.udf.register(\"get_tmax\", get_tmax_udf)\n",
    "spark.udf.register(\"get_tmin\", get_tmin_udf)\n",
    "\n",
    "diff_df = spark.sql(\"\"\"\n",
    "SELECT id, AVG(get_tmax(record) - get_tmin(record)) as diff\n",
    "FROM stations\n",
    "WHERE id = \"USW00014839\"\n",
    "OR id = \"USR0000WDDG\"\n",
    "OR id = \"USW00014837\"\n",
    "OR id = \"USW00014898\"\n",
    "GROUP BY id\n",
    "\"\"\")\n",
    "rows = diff_df.collect()\n",
    "result_dict = {row['id']: row['diff'] for row in rows}\n",
    "result_dict"
   ]
  },
  {
   "cell_type": "code",
   "execution_count": 39,
   "id": "cbdb9c9e-ce08-4b33-bdcc-9b24f9aa129b",
   "metadata": {},
   "outputs": [
    {
     "name": "stdout",
     "output_type": "stream",
     "text": [
      "Datacenter: datacenter1\n",
      "=======================\n",
      "Status=Up/Down\n",
      "|/ State=Normal/Leaving/Joining/Moving\n",
      "--  Address     Load       Tokens  Owns (effective)  Host ID                               Rack \n",
      "UN  172.21.0.4  87.72 KiB  16      100.0%            fc942320-2bfa-4c8b-8800-f74ed0f2b9b7  rack1\n",
      "UN  172.21.0.2  87.74 KiB  16      100.0%            908a4bc2-9776-4515-8614-dbf57cdeb73b  rack1\n",
      "DN  172.21.0.3  87.73 KiB  16      100.0%            2fc9abf7-4ae3-41ed-9b3d-7a9e3638c103  rack1\n",
      "\n"
     ]
    },
    {
     "name": "stderr",
     "output_type": "stream",
     "text": [
      "WARNING:cassandra.pool:Error attempting to reconnect to 172.21.0.3:9042, scheduling retry in 69.76 seconds: [Errno 113] Tried connecting to [('172.21.0.3', 9042)]. Last error: No route to host\n",
      "23/11/21 00:00:14 WARN ChannelPool: [s0|p6-db-2/172.21.0.3:9042]  Error while opening new channel (ConnectionInitException: [s0|connecting...] Protocol initialization request, step 1 (STARTUP {CQL_VERSION=3.0.0, DRIVER_NAME=DataStax Java driver for Apache Cassandra(R), DRIVER_VERSION=4.13.0, CLIENT_ID=688ad012-73fc-4359-9b5a-1b1c0b87f2be, APPLICATION_NAME=Spark-Cassandra-Connector-local-1700521939242}): failed to send request (com.datastax.oss.driver.shaded.netty.channel.StacklessClosedChannelException))\n"
     ]
    }
   ],
   "source": [
    "#q8\n",
    "#ran a docker command to kill the p6-db-2 container\n",
    "#what does nodetool status output?\n",
    "! nodetool status"
   ]
  },
  {
   "cell_type": "code",
   "execution_count": 44,
   "id": "6ae98217-f456-45bd-9c3e-8a6b3b42706d",
   "metadata": {},
   "outputs": [
    {
     "data": {
      "text/plain": [
       "error: \"need 3 replicas, but only have 2\""
      ]
     },
     "execution_count": 44,
     "metadata": {},
     "output_type": "execute_result"
    },
    {
     "name": "stderr",
     "output_type": "stream",
     "text": [
      "23/11/21 00:19:14 WARN ChannelPool: [s0|p6-db-2/172.21.0.3:9042]  Error while opening new channel (ConnectionInitException: [s0|connecting...] Protocol initialization request, step 1 (STARTUP {CQL_VERSION=3.0.0, DRIVER_NAME=DataStax Java driver for Apache Cassandra(R), DRIVER_VERSION=4.13.0, CLIENT_ID=688ad012-73fc-4359-9b5a-1b1c0b87f2be, APPLICATION_NAME=Spark-Cassandra-Connector-local-1700521939242}): failed to send request (com.datastax.oss.driver.shaded.netty.channel.StacklessClosedChannelException))\n"
     ]
    }
   ],
   "source": [
    "#q9\n",
    "#if you make a StationMax RPC call, what does the error field contain in StationMaxReply reply?\n",
    "request = station_pb2.StationMaxRequest(station='USW00014837')\n",
    "response = stub.StationMax(request)\n",
    "response"
   ]
  },
  {
   "cell_type": "code",
   "execution_count": 45,
   "id": "2592f7d9-41e6-4ef9-8dac-6c51214b1673",
   "metadata": {},
   "outputs": [
    {
     "data": {
      "text/plain": []
     },
     "execution_count": 45,
     "metadata": {},
     "output_type": "execute_result"
    },
    {
     "name": "stderr",
     "output_type": "stream",
     "text": [
      "23/11/21 00:20:08 WARN ChannelPool: [s0|p6-db-2/172.21.0.3:9042]  Error while opening new channel (ConnectionInitException: [s0|connecting...] Protocol initialization request, step 1 (STARTUP {CQL_VERSION=3.0.0, DRIVER_NAME=DataStax Java driver for Apache Cassandra(R), DRIVER_VERSION=4.13.0, CLIENT_ID=688ad012-73fc-4359-9b5a-1b1c0b87f2be, APPLICATION_NAME=Spark-Cassandra-Connector-local-1700521939242}): failed to send request (com.datastax.oss.driver.shaded.netty.channel.StacklessClosedChannelException))\n",
      "23/11/21 00:21:00 WARN ChannelPool: [s0|p6-db-2/172.21.0.3:9042]  Error while opening new channel (ConnectionInitException: [s0|connecting...] Protocol initialization request, step 1 (STARTUP {CQL_VERSION=3.0.0, DRIVER_NAME=DataStax Java driver for Apache Cassandra(R), DRIVER_VERSION=4.13.0, CLIENT_ID=688ad012-73fc-4359-9b5a-1b1c0b87f2be, APPLICATION_NAME=Spark-Cassandra-Connector-local-1700521939242}): failed to send request (com.datastax.oss.driver.shaded.netty.channel.StacklessClosedChannelException))\n"
     ]
    }
   ],
   "source": [
    "#q10\n",
    "#if you make a RecordTempsRequest RPC call, what does error contain in the RecordTempsReply reply?\n",
    "request = station_pb2.RecordTempsRequest(\n",
    "    station=\"UWMADISON\",\n",
    "    date=str(\"2023-4-20\"),\n",
    "    tmin=int(0),\n",
    "    tmax=int(100)\n",
    ")\n",
    "\n",
    "response = stub.RecordTemps(request)\n",
    "response"
   ]
  },
  {
   "cell_type": "code",
   "execution_count": null,
   "id": "aff6ced5-8d84-46fb-a52f-a5a84fa553b9",
   "metadata": {},
   "outputs": [],
   "source": []
  }
 ],
 "metadata": {
  "kernelspec": {
   "display_name": "Python 3 (ipykernel)",
   "language": "python",
   "name": "python3"
  },
  "language_info": {
   "codemirror_mode": {
    "name": "ipython",
    "version": 3
   },
   "file_extension": ".py",
   "mimetype": "text/x-python",
   "name": "python",
   "nbconvert_exporter": "python",
   "pygments_lexer": "ipython3",
   "version": "3.10.12"
  }
 },
 "nbformat": 4,
 "nbformat_minor": 5
}
