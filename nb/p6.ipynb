{
 "cells": [
  {
   "cell_type": "code",
   "execution_count": 97,
   "id": "912b78f6-52ea-4212-ad73-5ad27cde1483",
   "metadata": {},
   "outputs": [
    {
     "name": "stdout",
     "output_type": "stream",
     "text": [
      "Datacenter: datacenter1\n",
      "=======================\n",
      "Status=Up/Down\n",
      "|/ State=Normal/Leaving/Joining/Moving\n",
      "--  Address     Load      Tokens  Owns (effective)  Host ID                               Rack \n",
      "UN  172.28.0.2  1.13 MiB  16      100.0%            ce4aaa17-9c65-487e-aaa0-9cc5e5d5099c  rack1\n",
      "UN  172.28.0.4  1.16 MiB  16      100.0%            719f1e7c-fd4c-4465-8440-e9819e3ad4b1  rack1\n",
      "UN  172.28.0.3  1.13 MiB  16      100.0%            77001d86-317c-4c56-b7bd-ef28189a806c  rack1\n",
      "\n"
     ]
    }
   ],
   "source": [
    "!nodetool status\n",
    "# run after docker compose up -d\n",
    "# might take ~30 seconds"
   ]
  },
  {
   "cell_type": "code",
   "execution_count": 98,
   "id": "6ef14d86-c057-4c3c-ad73-163a29064b91",
   "metadata": {},
   "outputs": [
    {
     "name": "stderr",
     "output_type": "stream",
     "text": [
      "WARNING:cassandra.cluster:Cluster.__init__ called with contact_points specified, but no load_balancing_policy. In the next major version, this will raise an error; please specify a load-balancing policy. (contact_points = ['p6-db-1', 'p6-db-2', 'p6-db-3'], lbp = None)\n",
      "WARNING:cassandra.cluster:Downgrading core protocol version from 66 to 65 for 172.28.0.2:9042. To avoid this, it is best practice to explicitly set Cluster(protocol_version) to the version supported by your cluster. http://datastax.github.io/python-driver/api/cassandra/cluster.html#cassandra.cluster.Cluster.protocol_version\n",
      "WARNING:cassandra.cluster:Downgrading core protocol version from 65 to 5 for 172.28.0.2:9042. To avoid this, it is best practice to explicitly set Cluster(protocol_version) to the version supported by your cluster. http://datastax.github.io/python-driver/api/cassandra/cluster.html#cassandra.cluster.Cluster.protocol_version\n"
     ]
    }
   ],
   "source": [
    "from cassandra.cluster import Cluster\n",
    "cluster = Cluster(['p6-db-1', 'p6-db-2', 'p6-db-3'])\n",
    "cass = cluster.connect()"
   ]
  },
  {
   "cell_type": "code",
   "execution_count": 142,
   "id": "bc1d0518-7d90-4bcb-825d-2a0554d3be61",
   "metadata": {},
   "outputs": [
    {
     "data": {
      "text/plain": [
       "<cassandra.cluster.ResultSet at 0x7fd29665fb20>"
      ]
     },
     "execution_count": 142,
     "metadata": {},
     "output_type": "execute_result"
    }
   ],
   "source": [
    "cass.execute(\"DROP KEYSPACE IF EXISTS weather\")"
   ]
  },
  {
   "cell_type": "code",
   "execution_count": 143,
   "id": "03c2a898-c0b5-4522-8c87-36ecf9e0f67c",
   "metadata": {},
   "outputs": [
    {
     "data": {
      "text/plain": [
       "<cassandra.cluster.ResultSet at 0x7fd2bb498910>"
      ]
     },
     "execution_count": 143,
     "metadata": {},
     "output_type": "execute_result"
    }
   ],
   "source": [
    "cass.execute(\"\"\"\n",
    "CREATE KEYSPACE weather\n",
    "WITH REPLICATION = { \n",
    "   'class' : 'SimpleStrategy', \n",
    "   'replication_factor' : 3 \n",
    "};\n",
    "\"\"\")"
   ]
  },
  {
   "cell_type": "code",
   "execution_count": 144,
   "id": "9d7dd60c-8df2-4ff0-bf62-1a68cb67bd6c",
   "metadata": {},
   "outputs": [
    {
     "data": {
      "text/plain": [
       "<cassandra.cluster.ResultSet at 0x7fd293713a00>"
      ]
     },
     "execution_count": 144,
     "metadata": {},
     "output_type": "execute_result"
    }
   ],
   "source": [
    "cass.execute(\"USE weather\")"
   ]
  },
  {
   "cell_type": "code",
   "execution_count": 145,
   "id": "ef173119-3d71-4386-9d7e-db969a3b05dd",
   "metadata": {},
   "outputs": [
    {
     "data": {
      "text/plain": [
       "<cassandra.cluster.ResultSet at 0x7fd2937139a0>"
      ]
     },
     "execution_count": 145,
     "metadata": {},
     "output_type": "execute_result"
    }
   ],
   "source": [
    "cass.execute(\"CREATE TYPE station_record (tmin int, tmax int)\")"
   ]
  },
  {
   "cell_type": "code",
   "execution_count": 146,
   "id": "bcf59455-ae8a-4035-a775-db1c6d11b0e4",
   "metadata": {},
   "outputs": [
    {
     "data": {
      "text/plain": [
       "<cassandra.cluster.ResultSet at 0x7fd2983059f0>"
      ]
     },
     "execution_count": 146,
     "metadata": {},
     "output_type": "execute_result"
    }
   ],
   "source": [
    "cass.execute(\"\"\"\n",
    "create table stations(\n",
    "    id TEXT,\n",
    "    name TEXT STATIC,\n",
    "    date DATE,\n",
    "    record weather.station_record,\n",
    "    PRIMARY KEY ((id), date) \n",
    ") WITH CLUSTERING ORDER BY (date ASC)\n",
    "\"\"\")"
   ]
  },
  {
   "cell_type": "code",
   "execution_count": 147,
   "id": "bac8e96a-23f0-490c-b0ea-4cefe40e32b1",
   "metadata": {},
   "outputs": [
    {
     "data": {
      "text/plain": [
       "\"CREATE TABLE weather.stations (\\n    id text,\\n    date date,\\n    name text static,\\n    record station_record,\\n    PRIMARY KEY (id, date)\\n) WITH CLUSTERING ORDER BY (date ASC)\\n    AND additional_write_policy = '99p'\\n    AND bloom_filter_fp_chance = 0.01\\n    AND caching = {'keys': 'ALL', 'rows_per_partition': 'NONE'}\\n    AND cdc = false\\n    AND comment = ''\\n    AND compaction = {'class': 'org.apache.cassandra.db.compaction.SizeTieredCompactionStrategy', 'max_threshold': '32', 'min_threshold': '4'}\\n    AND compression = {'chunk_length_in_kb': '16', 'class': 'org.apache.cassandra.io.compress.LZ4Compressor'}\\n    AND memtable = 'default'\\n    AND crc_check_chance = 1.0\\n    AND default_time_to_live = 0\\n    AND extensions = {}\\n    AND gc_grace_seconds = 864000\\n    AND max_index_interval = 2048\\n    AND memtable_flush_period_in_ms = 0\\n    AND min_index_interval = 128\\n    AND read_repair = 'BLOCKING'\\n    AND speculative_retry = '99p';\""
      ]
     },
     "execution_count": 147,
     "metadata": {},
     "output_type": "execute_result"
    }
   ],
   "source": [
    "#q1\n",
    "#What is the Schema of stations?\n",
    "cass.execute(\"describe table weather.stations\").one().create_statement"
   ]
  },
  {
   "cell_type": "code",
   "execution_count": 148,
   "id": "465b1e50-9a55-403b-b0f5-1937a6f9efce",
   "metadata": {},
   "outputs": [],
   "source": [
    "from pyspark.sql import SparkSession\n",
    "spark = (SparkSession.builder\n",
    "         .appName(\"p6\")\n",
    "         .config('spark.jars.packages', 'com.datastax.spark:spark-cassandra-connector_2.12:3.4.0')\n",
    "         .config(\"spark.sql.extensions\", \"com.datastax.spark.connector.CassandraSparkExtensions\")\n",
    "         .getOrCreate())\n",
    "# first build spark session to read the input file, then dump the file into cassandra table"
   ]
  },
  {
   "cell_type": "code",
   "execution_count": 106,
   "id": "54c0f726-2e02-4c16-afe3-48d8831a81fa",
   "metadata": {},
   "outputs": [],
   "source": [
    "df = spark.read.text(\"ghcnd-stations.txt\")"
   ]
  },
  {
   "cell_type": "code",
   "execution_count": 149,
   "id": "c8f38900-be70-40e5-8fde-cca46ff77472",
   "metadata": {},
   "outputs": [
    {
     "data": {
      "text/plain": [
       "[Row(value='ACW00011604  17.1167  -61.7833   10.1    ST JOHNS COOLIDGE FLD                       '),\n",
       " Row(value='ACW00011647  17.1333  -61.7833   19.2    ST JOHNS                                    '),\n",
       " Row(value='AE000041196  25.3330   55.5170   34.0    SHARJAH INTER. AIRP            GSN     41196'),\n",
       " Row(value='AEM00041194  25.2550   55.3640   10.4    DUBAI INTL                             41194'),\n",
       " Row(value='AEM00041217  24.4330   54.6510   26.8    ABU DHABI INTL                         41217'),\n",
       " Row(value='AEM00041218  24.2620   55.6090  264.9    AL AIN INTL                            41218'),\n",
       " Row(value='AF000040930  35.3170   69.0170 3366.0    NORTH-SALANG                   GSN     40930'),\n",
       " Row(value='AFM00040938  34.2100   62.2280  977.2    HERAT                                  40938'),\n",
       " Row(value='AFM00040948  34.5660   69.2120 1791.3    KABUL INTL                             40948'),\n",
       " Row(value='AFM00040990  31.5000   65.8500 1010.0    KANDAHAR AIRPORT                       40990')]"
      ]
     },
     "execution_count": 149,
     "metadata": {},
     "output_type": "execute_result"
    }
   ],
   "source": [
    "df.take(10)"
   ]
  },
  {
   "cell_type": "code",
   "execution_count": 108,
   "id": "8411fd8c-1272-4ddf-9572-b0af471cd416",
   "metadata": {},
   "outputs": [],
   "source": [
    "from pyspark.sql.functions import col, expr, rtrim"
   ]
  },
  {
   "cell_type": "code",
   "execution_count": 150,
   "id": "2a4974a8-b0d1-4799-9555-5051f8d963a7",
   "metadata": {},
   "outputs": [],
   "source": [
    "df2 = (df.withColumn(\"ID\", expr(\"substring(value, 1, 11)\"))\n",
    "       .withColumn(\"STATE\", expr(\"substring(value, 39, 2)\"))\n",
    "       .withColumn(\"NAME\", rtrim(expr(\"substring(value, 42, 30)\")))\n",
    "       .drop(\"value\"))\n",
    "# refer to the documentation of \"ghcnd-stations.txt\n",
    "# trailing spaces after name need to be trimmed"
   ]
  },
  {
   "cell_type": "code",
   "execution_count": 122,
   "id": "2cc9ec67-f101-4aa8-94eb-b4d5ea60544e",
   "metadata": {},
   "outputs": [
    {
     "data": {
      "text/plain": [
       "[Row(ID='ACW00011604', STATE='  ', NAME='ST JOHNS COOLIDGE FLD'),\n",
       " Row(ID='ACW00011647', STATE='  ', NAME='ST JOHNS'),\n",
       " Row(ID='AE000041196', STATE='  ', NAME='SHARJAH INTER. AIRP'),\n",
       " Row(ID='AEM00041194', STATE='  ', NAME='DUBAI INTL'),\n",
       " Row(ID='AEM00041217', STATE='  ', NAME='ABU DHABI INTL'),\n",
       " Row(ID='AEM00041218', STATE='  ', NAME='AL AIN INTL'),\n",
       " Row(ID='AF000040930', STATE='  ', NAME='NORTH-SALANG'),\n",
       " Row(ID='AFM00040938', STATE='  ', NAME='HERAT'),\n",
       " Row(ID='AFM00040948', STATE='  ', NAME='KABUL INTL'),\n",
       " Row(ID='AFM00040990', STATE='  ', NAME='KANDAHAR AIRPORT')]"
      ]
     },
     "execution_count": 122,
     "metadata": {},
     "output_type": "execute_result"
    }
   ],
   "source": [
    "df2.take(10)"
   ]
  },
  {
   "cell_type": "code",
   "execution_count": 151,
   "id": "842eff1a-9f20-4bad-a8cd-7c799b4d7826",
   "metadata": {},
   "outputs": [],
   "source": [
    "filtered_df = df2.where(df2.STATE == \"WI\")"
   ]
  },
  {
   "cell_type": "code",
   "execution_count": 152,
   "id": "195c8b8b-1270-4672-aa3e-05fe9ee26c45",
   "metadata": {},
   "outputs": [
    {
     "data": {
      "text/plain": [
       "1313"
      ]
     },
     "execution_count": 152,
     "metadata": {},
     "output_type": "execute_result"
    }
   ],
   "source": [
    "rows = filtered_df.collect()\n",
    "len(rows) # 1313 rows with STATE == \"WI\""
   ]
  },
  {
   "cell_type": "code",
   "execution_count": 153,
   "id": "ea9cd678-c4c5-4b5c-8210-c1ac37eefdd8",
   "metadata": {},
   "outputs": [],
   "source": [
    "for row in rows:\n",
    "    cass.execute(\"\"\"\n",
    "        INSERT INTO stations (ID, NAME)\n",
    "        VALUES (%s, %s)\n",
    "        \"\"\",(row.ID, row.NAME))\n",
    "# weather_list is a list derived from spark\n",
    "# this step is essentially moving data from spark to cassandra"
   ]
  },
  {
   "cell_type": "code",
   "execution_count": 154,
   "id": "712b6a7e-95d1-4f63-a396-6008c5bdaae4",
   "metadata": {},
   "outputs": [
    {
     "name": "stderr",
     "output_type": "stream",
     "text": [
      "WARNING:cassandra.protocol:Server warning: Aggregation query used without partition key\n"
     ]
    },
    {
     "data": {
      "text/plain": [
       "1313"
      ]
     },
     "execution_count": 154,
     "metadata": {},
     "output_type": "execute_result"
    }
   ],
   "source": [
    "cass.execute(\"SELECT COUNT(*) FROM weather.stations\").one()[0]"
   ]
  },
  {
   "cell_type": "code",
   "execution_count": 132,
   "id": "ac8b39c7-1c0f-4a9b-9523-71433165981a",
   "metadata": {},
   "outputs": [
    {
     "data": {
      "text/plain": [
       "'MADISON DANE CO RGNL AP'"
      ]
     },
     "execution_count": 132,
     "metadata": {},
     "output_type": "execute_result"
    }
   ],
   "source": [
    "#q2\n",
    "#What is the name corresponding to station ID USW00014837?\n",
    "cass.execute(\"\"\"\n",
    "    SELECT NAME \n",
    "    FROM weather.stations \n",
    "    WHERE ID = 'USW00014837'\n",
    "\"\"\").one()[0]"
   ]
  },
  {
   "cell_type": "code",
   "execution_count": 51,
   "id": "c250cd9c-2444-4bec-a601-9402ecb2c6a9",
   "metadata": {},
   "outputs": [
    {
     "data": {
      "text/plain": [
       "-9014250178872933741"
      ]
     },
     "execution_count": 51,
     "metadata": {},
     "output_type": "execute_result"
    }
   ],
   "source": [
    "#q3\n",
    "#what is the token for the USC00470273 station?\n",
    "token_0273 = cass.execute(\"\"\"\n",
    "    SELECT TOKEN(ID)\n",
    "    FROM weather.stations \n",
    "    WHERE ID = 'USC00470273'\n",
    "\"\"\").one()[0]\n",
    "token_0273"
   ]
  },
  {
   "cell_type": "code",
   "execution_count": 52,
   "id": "1eedab28-0345-4d3b-9bf9-27728efadb18",
   "metadata": {},
   "outputs": [
    {
     "data": {
      "text/plain": [
       "b'\\nDatacenter: datacenter1\\n==========\\nAddress          Rack        Status State   Load            Owns                Token                                       \\n                                                                                8462630744215619970                         \\n172.28.0.3       rack1       Up     Normal  87.75 KiB       100.00%             -9067677327791489754                        \\n172.28.0.2       rack1       Up     Normal  87.75 KiB       100.00%             -9016749086415396146                        \\n172.28.0.4       rack1       Up     Normal  113.17 KiB      100.00%             -8472897347158022530                        \\n172.28.0.3       rack1       Up     Normal  87.75 KiB       100.00%             -8049825923049062738                        \\n172.28.0.2       rack1       Up     Normal  87.75 KiB       100.00%             -7426744533901497508                        \\n172.28.0.4       rack1       Up     Normal  113.17 KiB      100.00%             -7376855446923084241                        \\n172.28.0.3       rack1       Up     Normal  87.75 KiB       100.00%             -7232153990436711944                        \\n172.28.0.4       rack1       Up     Normal  113.17 KiB      100.00%             -6285558336230871981                        \\n172.28.0.3       rack1       Up     Normal  87.75 KiB       100.00%             -6156398109211132404                        \\n172.28.0.2       rack1       Up     Normal  87.75 KiB       100.00%             -5807721238204454210                        \\n172.28.0.4       rack1       Up     Normal  113.17 KiB      100.00%             -5441181688739710224                        \\n172.28.0.3       rack1       Up     Normal  87.75 KiB       100.00%             -5420482416500238763                        \\n172.28.0.2       rack1       Up     Normal  87.75 KiB       100.00%             -4829575785688340135                        \\n172.28.0.3       rack1       Up     Normal  87.75 KiB       100.00%             -4341109609052637106                        \\n172.28.0.4       rack1       Up     Normal  113.17 KiB      100.00%             -4000913458837126984                        \\n172.28.0.3       rack1       Up     Normal  87.75 KiB       100.00%             -3097589603372045132                        \\n172.28.0.2       rack1       Up     Normal  87.75 KiB       100.00%             -3050941484864753006                        \\n172.28.0.4       rack1       Up     Normal  113.17 KiB      100.00%             -2929412842497094172                        \\n172.28.0.3       rack1       Up     Normal  87.75 KiB       100.00%             -2130225360293509634                        \\n172.28.0.2       rack1       Up     Normal  87.75 KiB       100.00%             -1954899584629814717                        \\n172.28.0.4       rack1       Up     Normal  113.17 KiB      100.00%             -1911561437754667156                        \\n172.28.0.4       rack1       Up     Normal  113.17 KiB      100.00%             -1093889505142316362                        \\n172.28.0.2       rack1       Up     Normal  87.75 KiB       100.00%             -863602473937602457                         \\n172.28.0.3       rack1       Up     Normal  87.75 KiB       100.00%             -540220807779610996                         \\n172.28.0.2       rack1       Up     Normal  87.75 KiB       100.00%             -19225826446440701                          \\n172.28.0.4       rack1       Up     Normal  113.17 KiB      100.00%             -18133623916736823                          \\n172.28.0.4       rack1       Up     Normal  113.17 KiB      100.00%             717782068794156817                          \\n172.28.0.3       rack1       Up     Normal  87.75 KiB       100.00%             1078802487917432300                         \\n172.28.0.2       rack1       Up     Normal  87.75 KiB       100.00%             1421042403456142537                         \\n172.28.0.4       rack1       Up     Normal  113.17 KiB      100.00%             1797154876241758475                         \\n172.28.0.3       rack1       Up     Normal  87.75 KiB       100.00%             2056947940433546376                         \\n172.28.0.2       rack1       Up     Normal  87.75 KiB       100.00%             2492543019796175350                         \\n172.28.0.4       rack1       Up     Normal  113.17 KiB      100.00%             3040674881922350447                         \\n172.28.0.2       rack1       Up     Normal  87.75 KiB       100.00%             3510394424538602365                         \\n172.28.0.3       rack1       Up     Normal  87.75 KiB       100.00%             3835582241257133504                         \\n172.28.0.4       rack1       Up     Normal  113.17 KiB      100.00%             4008039125000885946                         \\n172.28.0.2       rack1       Up     Normal  87.75 KiB       100.00%             4328066357150953160                         \\n172.28.0.3       rack1       Up     Normal  87.75 KiB       100.00%             4931624141492071793                         \\n172.28.0.2       rack1       Up     Normal  87.75 KiB       100.00%             5403822238376532699                         \\n172.28.0.4       rack1       Up     Normal  113.17 KiB      100.00%             5598043677514784584                         \\n172.28.0.3       rack1       Up     Normal  87.75 KiB       100.00%             6022921252184284052                         \\n172.28.0.2       rack1       Up     Normal  87.75 KiB       100.00%             6139737931087426340                         \\n172.28.0.3       rack1       Up     Normal  87.75 KiB       100.00%             6867297899675445810                         \\n172.28.0.4       rack1       Up     Normal  113.17 KiB      100.00%             7217066973211827881                         \\n172.28.0.2       rack1       Up     Normal  87.75 KiB       100.00%             7219110738535027998                         \\n172.28.0.4       rack1       Up     Normal  113.17 KiB      100.00%             8195212425727941957                         \\n172.28.0.3       rack1       Up     Normal  87.75 KiB       100.00%             8307566129578029048                         \\n172.28.0.2       rack1       Up     Normal  87.75 KiB       100.00%             8462630744215619970                         \\n\\n  Warning: \"nodetool ring\" is used to output all the tokens of a node.\\n  To view status related info of a node use \"nodetool status\" instead.\\n\\n\\n  '"
      ]
     },
     "execution_count": 52,
     "metadata": {},
     "output_type": "execute_result"
    }
   ],
   "source": [
    "import subprocess\n",
    "output = subprocess.check_output(['nodetool', 'ring'])\n",
    "output"
   ]
  },
  {
   "cell_type": "code",
   "execution_count": 134,
   "id": "39b7f327-8ab6-425e-8003-0701d4a262a3",
   "metadata": {},
   "outputs": [
    {
     "data": {
      "text/plain": [
       "[-9067677327791489754,\n",
       " -9016749086415396146,\n",
       " -8472897347158022530,\n",
       " -8049825923049062738,\n",
       " -7426744533901497508,\n",
       " -7376855446923084241,\n",
       " -7232153990436711944,\n",
       " -6285558336230871981,\n",
       " -6156398109211132404,\n",
       " -5807721238204454210,\n",
       " -5441181688739710224,\n",
       " -5420482416500238763,\n",
       " -4829575785688340135,\n",
       " -4341109609052637106,\n",
       " -4000913458837126984,\n",
       " -3097589603372045132,\n",
       " -3050941484864753006,\n",
       " -2929412842497094172,\n",
       " -2130225360293509634,\n",
       " -1954899584629814717,\n",
       " -1911561437754667156,\n",
       " -1093889505142316362,\n",
       " -863602473937602457,\n",
       " -540220807779610996,\n",
       " -19225826446440701,\n",
       " -18133623916736823,\n",
       " 717782068794156817,\n",
       " 1078802487917432300,\n",
       " 1421042403456142537,\n",
       " 1797154876241758475,\n",
       " 2056947940433546376,\n",
       " 2492543019796175350,\n",
       " 3040674881922350447,\n",
       " 3510394424538602365,\n",
       " 3835582241257133504,\n",
       " 4008039125000885946,\n",
       " 4328066357150953160,\n",
       " 4931624141492071793,\n",
       " 5403822238376532699,\n",
       " 5598043677514784584,\n",
       " 6022921252184284052,\n",
       " 6139737931087426340,\n",
       " 6867297899675445810,\n",
       " 7217066973211827881,\n",
       " 7219110738535027998,\n",
       " 8195212425727941957,\n",
       " 8307566129578029048,\n",
       " 8462630744215619970]"
      ]
     },
     "execution_count": 134,
     "metadata": {},
     "output_type": "execute_result"
    }
   ],
   "source": [
    "output_str = output.decode('utf-8')\n",
    "lines = output_str.split('\\n')\n",
    "tokens = []\n",
    "for line in lines:\n",
    "    parts = line.split()\n",
    "    if len(parts) > 1 and parts[-1].lstrip('-').isdigit(): # without lstrip, token with leading \"-\" will be removed\n",
    "        tokens.append(int(parts[-1]))\n",
    "tokens"
   ]
  },
  {
   "cell_type": "code",
   "execution_count": 135,
   "id": "96883992-0769-43e4-899d-dddf8ebe3aac",
   "metadata": {},
   "outputs": [
    {
     "data": {
      "text/plain": [
       "-8472897347158022530"
      ]
     },
     "execution_count": 135,
     "metadata": {},
     "output_type": "execute_result"
    }
   ],
   "source": [
    "#q4\n",
    "#what is the first vnode token in the ring following the token for USC00470273?\n",
    "for i, node in enumerate(tokens):\n",
    "    if token_0273 > tokens[i] and i + 1 == len(tokens): # wrapping around\n",
    "        ans = tokens[0]\n",
    "        break\n",
    "    elif token_0273 < tokens[i+1]:\n",
    "        ans = tokens[i+1]\n",
    "        break\n",
    "ans"
   ]
  },
  {
   "cell_type": "code",
   "execution_count": 30,
   "id": "ed322aa1-dd74-4716-aa63-c5011d9fc8cb",
   "metadata": {},
   "outputs": [
    {
     "name": "stdout",
     "output_type": "stream",
     "text": [
      "Archive:  records.zip\n",
      "replace records.parquet/part-00000-574ab704-2431-4c8b-9d88-6c635a467b99-c000.snappy.parquet? [y]es, [n]o, [A]ll, [N]one, [r]ename: ^C\n"
     ]
    }
   ],
   "source": [
    "!unzip records.zip"
   ]
  },
  {
   "cell_type": "code",
   "execution_count": 55,
   "id": "6e1f9686-51a4-40f5-931f-c3f260a7d7f9",
   "metadata": {},
   "outputs": [],
   "source": [
    "df_record = spark.read.parquet(\"records.parquet\")"
   ]
  },
  {
   "cell_type": "code",
   "execution_count": 56,
   "id": "8b7e921c-0665-493e-8079-f6e55dd7e5df",
   "metadata": {},
   "outputs": [],
   "source": [
    "from pyspark.sql import functions as F\n",
    "df2_record = (df_record.groupBy(\"station\", \"date\")\n",
    "                      .pivot(\"element\", [\"TMAX\",\"TMIN\"])\n",
    "                      .agg(F.first(\"value\"))\n",
    "                      .orderBy(\"station\"))\n",
    "# Use Spark to load this and re-arrange the data so that there is \n",
    "# (a) one row per station/date combination, and (b) tmin and tmax columns\n",
    "# Hint: The pivot function in PySpark might be useful to rearrange the data"
   ]
  },
  {
   "cell_type": "code",
   "execution_count": 57,
   "id": "07424a4b-2122-4ae0-8a4f-7cde03b1ae5e",
   "metadata": {},
   "outputs": [
    {
     "name": "stdout",
     "output_type": "stream",
     "text": [
      "+-----------+--------+------+------+\n",
      "|    station|    date|  TMAX|  TMIN|\n",
      "+-----------+--------+------+------+\n",
      "|USR0000WDDG|20220806| 317.0| 217.0|\n",
      "|USR0000WDDG|20220924| 161.0|  94.0|\n",
      "|USR0000WDDG|20220628| 283.0| 161.0|\n",
      "|USR0000WDDG|20220130| -33.0|-117.0|\n",
      "|USR0000WDDG|20220919| 278.0| 139.0|\n",
      "|USR0000WDDG|20220414|  50.0| -17.0|\n",
      "|USR0000WDDG|20220629| 306.0| 150.0|\n",
      "|USR0000WDDG|20221114|  17.0| -61.0|\n",
      "|USR0000WDDG|20220712| 289.0| 156.0|\n",
      "|USR0000WDDG|20220202|-106.0|-150.0|\n",
      "+-----------+--------+------+------+\n",
      "only showing top 10 rows\n",
      "\n"
     ]
    }
   ],
   "source": [
    "df2_record.show(10)"
   ]
  },
  {
   "cell_type": "code",
   "execution_count": null,
   "id": "4f810967-7d4d-4250-ab80-17a2d4483295",
   "metadata": {},
   "outputs": [],
   "source": [
    "# cass.execute(\"\"\"\n",
    "# create table stations(\n",
    "#     id TEXT,\n",
    "#     name TEXT STATIC,\n",
    "#     date DATE,\n",
    "#     record weather.station_record,\n",
    "#     PRIMARY KEY ((id), date) \n",
    "# ) WITH CLUSTERING ORDER BY (date ASC)\n",
    "# \"\"\")"
   ]
  },
  {
   "cell_type": "code",
   "execution_count": 156,
   "id": "01a42841-062c-4129-bc16-93a58fcf481c",
   "metadata": {},
   "outputs": [],
   "source": [
    "import grpc\n",
    "import station_pb2 \n",
    "import station_pb2_grpc \n",
    "\n",
    "\n",
    "rows = df2_record.collect()\n",
    "channel = grpc.insecure_channel(f\"localhost:5440\") \n",
    "stub = station_pb2_grpc.StationStub(channel)\n",
    "\n",
    "for row in rows:\n",
    "    year = row.date[:4] # CQL requires that you insert date data in yyyy-mm-dd format\n",
    "    month = row.date[4:6]\n",
    "    day = row.date[6:]    \n",
    "    request = station_pb2.RecordTempsRequest(\n",
    "        station=row.station,\n",
    "        date=str(year + \"-\" + month + \"-\" + day),\n",
    "        tmin=int(row.TMIN),\n",
    "        tmax=int(row.TMAX)\n",
    "    )\n",
    "    try:\n",
    "        response = stub.RecordTemps(request)\n",
    "        # print(response)\n",
    "    except grpc.RpcError as e:\n",
    "        print(\"gRPC call failed: {}\".format(e))"
   ]
  },
  {
   "cell_type": "code",
   "execution_count": 157,
   "id": "cbacb5a0-fae0-4960-900e-cb37935335e0",
   "metadata": {},
   "outputs": [
    {
     "name": "stdout",
     "output_type": "stream",
     "text": [
      "Row(id='USW00014837', date=Date(18993), name='MADISON DANE CO RGNL AP', record=station_record(tmin=-99, tmax=-32))\n",
      "Row(id='USW00014837', date=Date(18994), name='MADISON DANE CO RGNL AP', record=station_record(tmin=-166, tmax=-82))\n",
      "Row(id='USW00014837', date=Date(18995), name='MADISON DANE CO RGNL AP', record=station_record(tmin=-177, tmax=-66))\n",
      "Row(id='USW00014837', date=Date(18996), name='MADISON DANE CO RGNL AP', record=station_record(tmin=-88, tmax=-5))\n",
      "Row(id='USW00014837', date=Date(18997), name='MADISON DANE CO RGNL AP', record=station_record(tmin=-116, tmax=-5))\n"
     ]
    }
   ],
   "source": [
    "result = cass.execute(\"\"\"\n",
    "SELECT *\n",
    "FROM stations\n",
    "WHERE id = 'USW00014837'\n",
    "LIMIT 5\n",
    "\"\"\")\n",
    "for row in result:\n",
    "    print(row)"
   ]
  },
  {
   "cell_type": "code",
   "execution_count": 158,
   "id": "bacaed1f-1127-49f9-ace1-5d00a508fc38",
   "metadata": {},
   "outputs": [
    {
     "data": {
      "text/plain": [
       "tmax: 356"
      ]
     },
     "execution_count": 158,
     "metadata": {},
     "output_type": "execute_result"
    }
   ],
   "source": [
    "#q5\n",
    "#what is the max temperature ever seen for station USW00014837?\n",
    "request = station_pb2.StationMaxRequest(station='USW00014837')\n",
    "response = stub.StationMax(request)\n",
    "response"
   ]
  },
  {
   "cell_type": "code",
   "execution_count": 159,
   "id": "07f94fd0-cec3-4548-a1a2-32dad93fcd08",
   "metadata": {},
   "outputs": [],
   "source": [
    "# already enabled CassandraSparkExtensions when creating your Spark session, so can create a Spark DataFrame corresponding to a Cassandra table like this\n",
    "df = (spark.read.format(\"org.apache.spark.sql.cassandra\")\n",
    "      .option(\"spark.cassandra.connection.host\", \"p6-db-1,p6-db-2,p6-db-3\")\n",
    "      .option(\"keyspace\", \"weather\")\n",
    "      .option(\"table\", \"stations\")\n",
    "      .load())"
   ]
  },
  {
   "cell_type": "code",
   "execution_count": 160,
   "id": "d9aa4655-5764-4464-8537-4c1ba2d6d4ed",
   "metadata": {},
   "outputs": [],
   "source": [
    "# Create a temporary view in Spark named stations that corresponds to the stations table in Cassandra.\n",
    "df.createOrReplaceTempView(\"stations\")"
   ]
  },
  {
   "cell_type": "code",
   "execution_count": 161,
   "id": "16eee75c-6053-41da-a5bb-a0fbc9036b6d",
   "metadata": {},
   "outputs": [
    {
     "data": {
      "text/plain": [
       "[Table(name='stations', catalog=None, namespace=[], description=None, tableType='TEMPORARY', isTemporary=True)]"
      ]
     },
     "execution_count": 161,
     "metadata": {},
     "output_type": "execute_result"
    }
   ],
   "source": [
    "#q6\n",
    "#what tables/views are available in the Spark catalog?\n",
    "spark.sql(\"DROP TABLE IF EXISTS id_state_name_table\")\n",
    "spark.catalog.listTables()"
   ]
  },
  {
   "cell_type": "code",
   "execution_count": 162,
   "id": "05f399a6-679d-45de-91d0-2474e15c3f71",
   "metadata": {},
   "outputs": [
    {
     "name": "stderr",
     "output_type": "stream",
     "text": [
      "23/11/18 09:08:43 WARN SimpleFunctionRegistry: The function get_tmax replaced a previously registered function.\n",
      "23/11/18 09:08:43 WARN SimpleFunctionRegistry: The function get_tmin replaced a previously registered function.\n",
      "                                                                                \r"
     ]
    },
    {
     "data": {
      "text/plain": [
       "{'USW00014837': 105.62739726027397,\n",
       " 'USR0000WDDG': 102.06849315068493,\n",
       " 'USW00014839': 89.6986301369863,\n",
       " 'USW00014898': 102.93698630136986}"
      ]
     },
     "execution_count": 162,
     "metadata": {},
     "output_type": "execute_result"
    }
   ],
   "source": [
    "#q7\n",
    "#what is the average difference between tmax and tmin, for each of the four stations that have temperature records?\n",
    "from pyspark.sql.types import IntegerType\n",
    "from pyspark.sql.functions import udf\n",
    "\n",
    "def get_tmax(record):\n",
    "    return record.tmax if record is not None else None\n",
    "\n",
    "def get_tmin(record):\n",
    "    return record.tmin if record is not None else None\n",
    "\n",
    "get_tmax_udf = udf(get_tmax, IntegerType())\n",
    "get_tmin_udf = udf(get_tmin, IntegerType())\n",
    "\n",
    "spark.udf.register(\"get_tmax\", get_tmax_udf)\n",
    "spark.udf.register(\"get_tmin\", get_tmin_udf)\n",
    "\n",
    "diff_df = spark.sql(\"\"\"\n",
    "SELECT id, AVG(get_tmax(record) - get_tmin(record)) as diff\n",
    "FROM stations\n",
    "WHERE id = \"USW00014839\"\n",
    "OR id = \"USR0000WDDG\"\n",
    "OR id = \"USW00014837\"\n",
    "OR id = \"USW00014898\"\n",
    "GROUP BY id\n",
    "\"\"\")\n",
    "rows = diff_df.collect()\n",
    "result_dict = {row['id']: row['diff'] for row in rows}\n",
    "result_dict"
   ]
  },
  {
   "cell_type": "code",
   "execution_count": 68,
   "id": "cbdb9c9e-ce08-4b33-bdcc-9b24f9aa129b",
   "metadata": {},
   "outputs": [
    {
     "name": "stdout",
     "output_type": "stream",
     "text": [
      "Datacenter: datacenter1\n",
      "=======================\n",
      "Status=Up/Down\n",
      "|/ State=Normal/Leaving/Joining/Moving\n",
      "--  Address     Load        Tokens  Owns (effective)  Host ID                               Rack \n",
      "UN  172.28.0.2  87.75 KiB   16      100.0%            ce4aaa17-9c65-487e-aaa0-9cc5e5d5099c  rack1\n",
      "UN  172.28.0.4  113.17 KiB  16      100.0%            719f1e7c-fd4c-4465-8440-e9819e3ad4b1  rack1\n",
      "DN  172.28.0.3  87.75 KiB   16      100.0%            77001d86-317c-4c56-b7bd-ef28189a806c  rack1\n",
      "\n"
     ]
    },
    {
     "name": "stderr",
     "output_type": "stream",
     "text": [
      "WARNING:cassandra.pool:Error attempting to reconnect to 172.28.0.3:9042, scheduling retry in 7.12 seconds: [Errno None] Tried connecting to [('172.28.0.3', 9042)]. Last error: timed out\n"
     ]
    }
   ],
   "source": [
    "#q8\n",
    "#what does nodetool status output?\n",
    "! nodetool status"
   ]
  },
  {
   "cell_type": "code",
   "execution_count": 69,
   "id": "6ae98217-f456-45bd-9c3e-8a6b3b42706d",
   "metadata": {},
   "outputs": [
    {
     "data": {
      "text/plain": [
       "error: \"Error from server: code=1000 [Unavailable exception] message=\\\"Cannot achieve consistency level THREE\\\" info={\\'consistency\\': \\'THREE\\', \\'required_replicas\\': 3, \\'alive_replicas\\': 2}\""
      ]
     },
     "execution_count": 69,
     "metadata": {},
     "output_type": "execute_result"
    },
    {
     "name": "stderr",
     "output_type": "stream",
     "text": [
      "23/11/17 11:28:14 WARN ChannelPool: [s0|p6-db-2/172.28.0.3:9042]  Error while opening new channel (ConnectionInitException: [s0|connecting...] Protocol initialization request, step 1 (STARTUP {CQL_VERSION=3.0.0, DRIVER_NAME=DataStax Java driver for Apache Cassandra(R), DRIVER_VERSION=4.13.0, CLIENT_ID=08e5e5bc-8cee-4c35-94d3-32e0bb42b59a, APPLICATION_NAME=Spark-Cassandra-Connector-local-1700219919669}): failed to send request (java.nio.channels.NotYetConnectedException))\n"
     ]
    }
   ],
   "source": [
    "#q9\n",
    "#if you make a StationMax RPC call, what does the error field contain in StationMaxReply reply?\n",
    "request = station_pb2.StationMaxRequest(station='USW00014837')\n",
    "response = stub.StationMax(request)\n",
    "response"
   ]
  },
  {
   "cell_type": "code",
   "execution_count": 70,
   "id": "2592f7d9-41e6-4ef9-8dac-6c51214b1673",
   "metadata": {},
   "outputs": [
    {
     "data": {
      "text/plain": []
     },
     "execution_count": 70,
     "metadata": {},
     "output_type": "execute_result"
    },
    {
     "name": "stderr",
     "output_type": "stream",
     "text": [
      "WARNING:cassandra.pool:Error attempting to reconnect to 172.28.0.3:9042, scheduling retry in 14.08 seconds: [Errno None] Tried connecting to [('172.28.0.3', 9042)]. Last error: timed out\n",
      "23/11/17 11:28:33 WARN ChannelPool: [s0|p6-db-2/172.28.0.3:9042]  Error while opening new channel (ConnectionInitException: [s0|connecting...] Protocol initialization request, step 1 (STARTUP {CQL_VERSION=3.0.0, DRIVER_NAME=DataStax Java driver for Apache Cassandra(R), DRIVER_VERSION=4.13.0, CLIENT_ID=08e5e5bc-8cee-4c35-94d3-32e0bb42b59a, APPLICATION_NAME=Spark-Cassandra-Connector-local-1700219919669}): failed to send request (com.datastax.oss.driver.shaded.netty.channel.StacklessClosedChannelException))\n",
      "WARNING:cassandra.pool:Error attempting to reconnect to 172.28.0.3:9042, scheduling retry in 34.24 seconds: [Errno 113] Tried connecting to [('172.28.0.3', 9042)]. Last error: No route to host\n",
      "WARNING:cassandra.pool:Error attempting to reconnect to 172.28.0.3:9042, scheduling retry in 71.68 seconds: [Errno 113] Tried connecting to [('172.28.0.3', 9042)]. Last error: No route to host\n",
      "23/11/17 11:29:10 WARN ChannelPool: [s0|p6-db-2/172.28.0.3:9042]  Error while opening new channel (ConnectionInitException: [s0|connecting...] Protocol initialization request, step 1 (STARTUP {CQL_VERSION=3.0.0, DRIVER_NAME=DataStax Java driver for Apache Cassandra(R), DRIVER_VERSION=4.13.0, CLIENT_ID=08e5e5bc-8cee-4c35-94d3-32e0bb42b59a, APPLICATION_NAME=Spark-Cassandra-Connector-local-1700219919669}): failed to send request (com.datastax.oss.driver.shaded.netty.channel.StacklessClosedChannelException))\n",
      "23/11/17 11:30:08 WARN ChannelPool: [s0|p6-db-2/172.28.0.3:9042]  Error while opening new channel (ConnectionInitException: [s0|connecting...] Protocol initialization request, step 1 (STARTUP {CQL_VERSION=3.0.0, DRIVER_NAME=DataStax Java driver for Apache Cassandra(R), DRIVER_VERSION=4.13.0, CLIENT_ID=08e5e5bc-8cee-4c35-94d3-32e0bb42b59a, APPLICATION_NAME=Spark-Cassandra-Connector-local-1700219919669}): failed to send request (com.datastax.oss.driver.shaded.netty.channel.StacklessClosedChannelException))\n",
      "WARNING:cassandra.pool:Error attempting to reconnect to 172.28.0.3:9042, scheduling retry in 135.68 seconds: [Errno 113] Tried connecting to [('172.28.0.3', 9042)]. Last error: No route to host\n",
      "23/11/17 11:31:10 WARN ChannelPool: [s0|p6-db-2/172.28.0.3:9042]  Error while opening new channel (ConnectionInitException: [s0|connecting...] Protocol initialization request, step 1 (STARTUP {CQL_VERSION=3.0.0, DRIVER_NAME=DataStax Java driver for Apache Cassandra(R), DRIVER_VERSION=4.13.0, CLIENT_ID=08e5e5bc-8cee-4c35-94d3-32e0bb42b59a, APPLICATION_NAME=Spark-Cassandra-Connector-local-1700219919669}): failed to send request (com.datastax.oss.driver.shaded.netty.channel.StacklessClosedChannelException))\n",
      "23/11/17 11:32:10 WARN ChannelPool: [s0|p6-db-2/172.28.0.3:9042]  Error while opening new channel (ConnectionInitException: [s0|connecting...] Protocol initialization request, step 1 (STARTUP {CQL_VERSION=3.0.0, DRIVER_NAME=DataStax Java driver for Apache Cassandra(R), DRIVER_VERSION=4.13.0, CLIENT_ID=08e5e5bc-8cee-4c35-94d3-32e0bb42b59a, APPLICATION_NAME=Spark-Cassandra-Connector-local-1700219919669}): failed to send request (com.datastax.oss.driver.shaded.netty.channel.StacklessClosedChannelException))\n",
      "WARNING:cassandra.pool:Error attempting to reconnect to 172.28.0.3:9042, scheduling retry in 268.8 seconds: [Errno 113] Tried connecting to [('172.28.0.3', 9042)]. Last error: No route to host\n",
      "23/11/17 11:33:13 WARN ChannelPool: [s0|p6-db-2/172.28.0.3:9042]  Error while opening new channel (ConnectionInitException: [s0|connecting...] Protocol initialization request, step 1 (STARTUP {CQL_VERSION=3.0.0, DRIVER_NAME=DataStax Java driver for Apache Cassandra(R), DRIVER_VERSION=4.13.0, CLIENT_ID=08e5e5bc-8cee-4c35-94d3-32e0bb42b59a, APPLICATION_NAME=Spark-Cassandra-Connector-local-1700219919669}): failed to send request (com.datastax.oss.driver.shaded.netty.channel.StacklessClosedChannelException))\n",
      "23/11/17 11:34:08 WARN ChannelPool: [s0|p6-db-2/172.28.0.3:9042]  Error while opening new channel (ConnectionInitException: [s0|connecting...] Protocol initialization request, step 1 (STARTUP {CQL_VERSION=3.0.0, DRIVER_NAME=DataStax Java driver for Apache Cassandra(R), DRIVER_VERSION=4.13.0, CLIENT_ID=08e5e5bc-8cee-4c35-94d3-32e0bb42b59a, APPLICATION_NAME=Spark-Cassandra-Connector-local-1700219919669}): failed to send request (com.datastax.oss.driver.shaded.netty.channel.StacklessClosedChannelException))\n",
      "23/11/17 11:35:03 WARN ChannelPool: [s0|p6-db-2/172.28.0.3:9042]  Error while opening new channel (ConnectionInitException: [s0|connecting...] Protocol initialization request, step 1 (STARTUP {CQL_VERSION=3.0.0, DRIVER_NAME=DataStax Java driver for Apache Cassandra(R), DRIVER_VERSION=4.13.0, CLIENT_ID=08e5e5bc-8cee-4c35-94d3-32e0bb42b59a, APPLICATION_NAME=Spark-Cassandra-Connector-local-1700219919669}): failed to send request (com.datastax.oss.driver.shaded.netty.channel.StacklessClosedChannelException))\n",
      "23/11/17 11:35:56 WARN ChannelPool: [s0|p6-db-2/172.28.0.3:9042]  Error while opening new channel (ConnectionInitException: [s0|connecting...] Protocol initialization request, step 1 (STARTUP {CQL_VERSION=3.0.0, DRIVER_NAME=DataStax Java driver for Apache Cassandra(R), DRIVER_VERSION=4.13.0, CLIENT_ID=08e5e5bc-8cee-4c35-94d3-32e0bb42b59a, APPLICATION_NAME=Spark-Cassandra-Connector-local-1700219919669}): failed to send request (com.datastax.oss.driver.shaded.netty.channel.StacklessClosedChannelException))\n",
      "23/11/17 11:36:56 WARN ChannelPool: [s0|p6-db-2/172.28.0.3:9042]  Error while opening new channel (ConnectionInitException: [s0|connecting...] Protocol initialization request, step 1 (STARTUP {CQL_VERSION=3.0.0, DRIVER_NAME=DataStax Java driver for Apache Cassandra(R), DRIVER_VERSION=4.13.0, CLIENT_ID=08e5e5bc-8cee-4c35-94d3-32e0bb42b59a, APPLICATION_NAME=Spark-Cassandra-Connector-local-1700219919669}): failed to send request (com.datastax.oss.driver.shaded.netty.channel.StacklessClosedChannelException))\n",
      "WARNING:cassandra.pool:Error attempting to reconnect to 172.28.0.3:9042, scheduling retry in 435.2 seconds: [Errno 113] Tried connecting to [('172.28.0.3', 9042)]. Last error: No route to host\n",
      "23/11/17 11:37:59 WARN ChannelPool: [s0|p6-db-2/172.28.0.3:9042]  Error while opening new channel (ConnectionInitException: [s0|connecting...] Protocol initialization request, step 1 (STARTUP {CQL_VERSION=3.0.0, DRIVER_NAME=DataStax Java driver for Apache Cassandra(R), DRIVER_VERSION=4.13.0, CLIENT_ID=08e5e5bc-8cee-4c35-94d3-32e0bb42b59a, APPLICATION_NAME=Spark-Cassandra-Connector-local-1700219919669}): failed to send request (com.datastax.oss.driver.shaded.netty.channel.StacklessClosedChannelException))\n",
      "23/11/17 11:39:02 WARN ChannelPool: [s0|p6-db-2/172.28.0.3:9042]  Error while opening new channel (ConnectionInitException: [s0|connecting...] Protocol initialization request, step 1 (STARTUP {CQL_VERSION=3.0.0, DRIVER_NAME=DataStax Java driver for Apache Cassandra(R), DRIVER_VERSION=4.13.0, CLIENT_ID=08e5e5bc-8cee-4c35-94d3-32e0bb42b59a, APPLICATION_NAME=Spark-Cassandra-Connector-local-1700219919669}): failed to send request (com.datastax.oss.driver.shaded.netty.channel.StacklessClosedChannelException))\n",
      "23/11/17 11:40:05 WARN ChannelPool: [s0|p6-db-2/172.28.0.3:9042]  Error while opening new channel (ConnectionInitException: [s0|connecting...] Protocol initialization request, step 1 (STARTUP {CQL_VERSION=3.0.0, DRIVER_NAME=DataStax Java driver for Apache Cassandra(R), DRIVER_VERSION=4.13.0, CLIENT_ID=08e5e5bc-8cee-4c35-94d3-32e0bb42b59a, APPLICATION_NAME=Spark-Cassandra-Connector-local-1700219919669}): failed to send request (com.datastax.oss.driver.shaded.netty.channel.StacklessClosedChannelException))\n"
     ]
    }
   ],
   "source": [
    "#q10\n",
    "#if you make a RecordTempsRequest RPC call, what does error contain in the RecordTempsReply reply?\n",
    "request = station_pb2.RecordTempsRequest(\n",
    "    station=\"UWMADISON\",\n",
    "    date=str(\"2023-4-20\"),\n",
    "    tmin=int(0),\n",
    "    tmax=int(100)\n",
    ")\n",
    "\n",
    "response = stub.RecordTemps(request)\n",
    "response"
   ]
  },
  {
   "cell_type": "code",
   "execution_count": null,
   "id": "aff6ced5-8d84-46fb-a52f-a5a84fa553b9",
   "metadata": {},
   "outputs": [],
   "source": []
  }
 ],
 "metadata": {
  "kernelspec": {
   "display_name": "Python 3 (ipykernel)",
   "language": "python",
   "name": "python3"
  },
  "language_info": {
   "codemirror_mode": {
    "name": "ipython",
    "version": 3
   },
   "file_extension": ".py",
   "mimetype": "text/x-python",
   "name": "python",
   "nbconvert_exporter": "python",
   "pygments_lexer": "ipython3",
   "version": "3.10.12"
  }
 },
 "nbformat": 4,
 "nbformat_minor": 5
}
